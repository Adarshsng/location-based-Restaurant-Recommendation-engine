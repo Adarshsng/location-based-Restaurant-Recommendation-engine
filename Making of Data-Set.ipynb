{
 "cells": [
  {
   "cell_type": "code",
   "execution_count": 1,
   "metadata": {},
   "outputs": [],
   "source": [
    "import pandas as pd"
   ]
  },
  {
   "cell_type": "code",
   "execution_count": 2,
   "metadata": {},
   "outputs": [],
   "source": [
    "cuzzine=pd.read_csv('chefmozcuisine.csv')\n",
    "place=pd.read_csv('geoplaces2.csv')\n",
    "rating=pd.read_csv('rating_final.csv')"
   ]
  },
  {
   "cell_type": "code",
   "execution_count": 3,
   "metadata": {},
   "outputs": [
    {
     "name": "stdout",
     "output_type": "stream",
     "text": [
      "   placeID        Rcuisine\n",
      "0   135110         Spanish\n",
      "1   135109         Italian\n",
      "2   135107  Latin_American\n",
      "3   135106         Mexican\n",
      "4   135105       Fast_Food\n"
     ]
    }
   ],
   "source": [
    "print(cuzzine.head())\n"
   ]
  },
  {
   "cell_type": "code",
   "execution_count": null,
   "metadata": {},
   "outputs": [],
   "source": []
  },
  {
   "cell_type": "code",
   "execution_count": 4,
   "metadata": {},
   "outputs": [
    {
     "name": "stdout",
     "output_type": "stream",
     "text": [
      "   placeID   latitude   longitude  \\\n",
      "0   134999  18.915421  -99.184871   \n",
      "1   132825  22.147392 -100.983092   \n",
      "2   135106  22.149709 -100.976093   \n",
      "3   132667  23.752697  -99.163359   \n",
      "4   132613  23.752903  -99.165076   \n",
      "\n",
      "                                      the_geom_meter  \\\n",
      "0  0101000020957F000088568DE356715AC138C0A525FC46...   \n",
      "1  0101000020957F00001AD016568C4858C1243261274BA5...   \n",
      "2  0101000020957F0000649D6F21634858C119AE9BF528A3...   \n",
      "3  0101000020957F00005D67BCDDED8157C1222A2DC8D84D...   \n",
      "4  0101000020957F00008EBA2D06DC8157C194E03B7B504E...   \n",
      "\n",
      "                             name                                 address  \\\n",
      "0                 Kiku Cuernavaca                              Revolucion   \n",
      "1                 puesto de tacos  esquina santos degollado y leon guzman   \n",
      "2      El Rinc�n de San Francisco                         Universidad 169   \n",
      "3  little pizza Emilio Portes Gil                 calle emilio portes gil   \n",
      "4                   carnitas_mata                  lic. Emilio portes gil   \n",
      "\n",
      "              city            state country fax      ...        \\\n",
      "0       Cuernavaca          Morelos  Mexico   ?      ...         \n",
      "1           s.l.p.           s.l.p.  mexico   ?      ...         \n",
      "2  San Luis Potosi  San Luis Potosi  Mexico   ?      ...         \n",
      "3        victoria        tamaulipas       ?   ?      ...         \n",
      "4         victoria       Tamaulipas  Mexico   ?      ...         \n",
      "\n",
      "             alcohol smoking_area dress_code     accessibility   price  \\\n",
      "0  No_Alcohol_Served         none   informal  no_accessibility  medium   \n",
      "1  No_Alcohol_Served         none   informal        completely     low   \n",
      "2          Wine-Beer  only at bar   informal         partially  medium   \n",
      "3  No_Alcohol_Served         none   informal        completely     low   \n",
      "4  No_Alcohol_Served    permitted   informal        completely  medium   \n",
      "\n",
      "                     url Rambience franchise    area other_services  \n",
      "0  kikucuernavaca.com.mx  familiar         f  closed           none  \n",
      "1                      ?  familiar         f    open           none  \n",
      "2                      ?  familiar         f    open           none  \n",
      "3                      ?  familiar         t  closed           none  \n",
      "4                      ?  familiar         t  closed           none  \n",
      "\n",
      "[5 rows x 21 columns]\n"
     ]
    }
   ],
   "source": [
    "print(place.head())"
   ]
  },
  {
   "cell_type": "code",
   "execution_count": 5,
   "metadata": {},
   "outputs": [
    {
     "name": "stdout",
     "output_type": "stream",
     "text": [
      "  userID  placeID  rating  food_rating  service_rating\n",
      "0  U1077   135085       2            2               2\n",
      "1  U1077   135038       2            2               1\n",
      "2  U1077   132825       2            2               2\n",
      "3  U1077   135060       1            2               2\n",
      "4  U1068   135104       1            1               2\n"
     ]
    }
   ],
   "source": [
    "print(rating.head())"
   ]
  },
  {
   "cell_type": "code",
   "execution_count": null,
   "metadata": {},
   "outputs": [],
   "source": []
  },
  {
   "cell_type": "code",
   "execution_count": null,
   "metadata": {},
   "outputs": [],
   "source": []
  },
  {
   "cell_type": "code",
   "execution_count": 6,
   "metadata": {
    "scrolled": true
   },
   "outputs": [
    {
     "name": "stdout",
     "output_type": "stream",
     "text": [
      "Index(['placeID', 'latitude', 'longitude'], dtype='object')\n"
     ]
    }
   ],
   "source": [
    "place.drop(['the_geom_meter', 'fax', 'zip',\n",
    "       'alcohol', 'smoking_area', 'dress_code', 'accessibility',\n",
    "       'url', 'Rambience', 'franchise', 'area', 'other_services', 'name', 'address', 'city', 'state',\n",
    "       'country','price'],axis=1,inplace=True)\n",
    "print(place.columns)"
   ]
  },
  {
   "cell_type": "code",
   "execution_count": 7,
   "metadata": {},
   "outputs": [
    {
     "name": "stdout",
     "output_type": "stream",
     "text": [
      "   placeID   latitude   longitude\n",
      "0   134999  18.915421  -99.184871\n",
      "1   132825  22.147392 -100.983092\n",
      "2   135106  22.149709 -100.976093\n",
      "3   132667  23.752697  -99.163359\n",
      "4   132613  23.752903  -99.165076\n"
     ]
    }
   ],
   "source": [
    "print(place.head())\n",
    "#place.set_index('placeID')"
   ]
  },
  {
   "cell_type": "code",
   "execution_count": 8,
   "metadata": {},
   "outputs": [],
   "source": [
    "data=(rating.rating * rating.food_rating * rating.service_rating)/3\n",
    "data=round(data,1)"
   ]
  },
  {
   "cell_type": "code",
   "execution_count": 9,
   "metadata": {},
   "outputs": [
    {
     "name": "stdout",
     "output_type": "stream",
     "text": [
      "   placeID  ave_rating\n",
      "0   135085         2.7\n",
      "1   135038         1.3\n",
      "2   132825         2.7\n",
      "3   135060         1.3\n",
      "4   135104         0.7\n"
     ]
    }
   ],
   "source": [
    "rating['ave_rating']=data\n",
    "list=[]\n",
    "for i in range(0,1161):\n",
    "    list.append(i)\n",
    "#rating.drop([list],axis=1,inplace=True)\n",
    "rating.drop(['rating','food_rating','service_rating','userID'],axis=1,inplace=True)\n",
    "print(rating.head())\n",
    "#rating.set_index('placeID')"
   ]
  },
  {
   "cell_type": "code",
   "execution_count": null,
   "metadata": {},
   "outputs": [],
   "source": []
  },
  {
   "cell_type": "code",
   "execution_count": 10,
   "metadata": {},
   "outputs": [],
   "source": [
    "#cuzzine.set_index('placeID')"
   ]
  },
  {
   "cell_type": "code",
   "execution_count": 11,
   "metadata": {},
   "outputs": [
    {
     "name": "stdout",
     "output_type": "stream",
     "text": [
      "   placeID  ave_rating   latitude  longitude   Rcuisine\n",
      "0   135085         2.7  22.150802 -100.98268  Fast_Food\n",
      "1   135085         0.7  22.150802 -100.98268  Fast_Food\n",
      "2   135085         0.7  22.150802 -100.98268  Fast_Food\n",
      "3   135085         2.7  22.150802 -100.98268  Fast_Food\n",
      "4   135085         1.3  22.150802 -100.98268  Fast_Food\n",
      "   Count  placeID  ave_rating   latitude   longitude       Service\n",
      "0     56   135032         1.3  22.152481 -100.973486     Cafeteria\n",
      "1     56   135032         1.3  22.152481 -100.973486  Contemporary\n",
      "2     56   135032         1.3  22.152481 -100.973486     Cafeteria\n",
      "3     56   135032         1.3  22.152481 -100.973486  Contemporary\n",
      "4     56   135032         0.0  22.152481 -100.973486     Cafeteria\n"
     ]
    }
   ],
   "source": [
    "result = pd.merge(rating,place,on= 'placeID')\n",
    "result = pd.merge(result,cuzzine,on= 'placeID')\n",
    "print(result.head())\n",
    "rating_count=pd.DataFrame(result.placeID.value_counts())\n",
    "#print(rating_count.head())\n",
    "rating_count.columns = [ 'Count']\n",
    "#print(rating_count.head())\n",
    "rating_count['placeID'] = rating_count.index\n",
    "#print(rating_count.head())\n",
    "rating_count.reset_index(drop=True,inplace=True)\n",
    "#print(rating_count.head())\n",
    "result = pd.merge(rating_count,result,on= 'placeID')\n",
    "\n",
    "result.columns = ['Count', 'placeID', 'ave_rating', 'latitude', 'longitude', 'Service']\n",
    "print(result.head())\n",
    "#result.to_csv(\"laundry.csv\")"
   ]
  },
  {
   "cell_type": "code",
   "execution_count": null,
   "metadata": {},
   "outputs": [],
   "source": []
  },
  {
   "cell_type": "code",
   "execution_count": null,
   "metadata": {},
   "outputs": [],
   "source": []
  },
  {
   "cell_type": "code",
   "execution_count": 12,
   "metadata": {},
   "outputs": [],
   "source": [
    "user_cuzzine=pd.read_csv('usercuisine.csv')\n",
    "user_profile=pd.read_csv('userprofile.csv')"
   ]
  },
  {
   "cell_type": "code",
   "execution_count": 13,
   "metadata": {},
   "outputs": [
    {
     "name": "stdout",
     "output_type": "stream",
     "text": [
      "Index(['userID', 'latitude', 'longitude', 'smoker', 'drink_level',\n",
      "       'dress_preference', 'ambience', 'transport', 'marital_status', 'hijos',\n",
      "       'birth_year', 'interest', 'personality', 'religion', 'activity',\n",
      "       'color', 'weight', 'budget', 'height'],\n",
      "      dtype='object')\n"
     ]
    }
   ],
   "source": [
    "print(user_profile.columns)"
   ]
  },
  {
   "cell_type": "code",
   "execution_count": 14,
   "metadata": {},
   "outputs": [],
   "source": [
    "user_profile.drop([ 'smoker', 'drink_level',\n",
    "       'dress_preference', 'ambience', 'transport', 'marital_status', 'hijos',\n",
    "       'birth_year', 'interest', 'personality', 'religion', 'activity',\n",
    "       'color', 'weight', 'budget', 'height'],axis=1,inplace=True)"
   ]
  },
  {
   "cell_type": "code",
   "execution_count": 15,
   "metadata": {},
   "outputs": [
    {
     "name": "stdout",
     "output_type": "stream",
     "text": [
      "Index(['userID', 'latitude', 'longitude'], dtype='object')\n",
      "Index(['userID', 'Rcuisine'], dtype='object')\n"
     ]
    }
   ],
   "source": [
    "print(user_profile.columns)\n",
    "print(user_cuzzine.columns)"
   ]
  },
  {
   "cell_type": "code",
   "execution_count": 16,
   "metadata": {},
   "outputs": [
    {
     "name": "stdout",
     "output_type": "stream",
     "text": [
      "  userID   latitude   longitude           Service\n",
      "0  U1001  22.139997 -100.978803          American\n",
      "1  U1002  22.150087 -100.983325           Mexican\n",
      "2  U1003  22.119847 -100.946527           Mexican\n",
      "3  U1004  18.867000  -99.183000            Bakery\n",
      "4  U1004  18.867000  -99.183000  Breakfast-Brunch\n"
     ]
    }
   ],
   "source": [
    "end = pd.merge(user_profile,user_cuzzine,on= 'userID')\n",
    "end.columns = ['userID', 'latitude', 'longitude','Service']\n",
    "print(end.head())\n",
    "#end.to_csv(\"user.csv\")"
   ]
  },
  {
   "cell_type": "code",
   "execution_count": null,
   "metadata": {},
   "outputs": [],
   "source": []
  },
  {
   "cell_type": "code",
   "execution_count": null,
   "metadata": {},
   "outputs": [],
   "source": []
  },
  {
   "cell_type": "code",
   "execution_count": null,
   "metadata": {},
   "outputs": [],
   "source": []
  },
  {
   "cell_type": "code",
   "execution_count": null,
   "metadata": {},
   "outputs": [],
   "source": []
  }
 ],
 "metadata": {
  "kernelspec": {
   "display_name": "Python 3",
   "language": "python",
   "name": "python3"
  },
  "language_info": {
   "codemirror_mode": {
    "name": "ipython",
    "version": 3
   },
   "file_extension": ".py",
   "mimetype": "text/x-python",
   "name": "python",
   "nbconvert_exporter": "python",
   "pygments_lexer": "ipython3",
   "version": "3.7.2"
  }
 },
 "nbformat": 4,
 "nbformat_minor": 2
}
