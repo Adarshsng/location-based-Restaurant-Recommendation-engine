{
 "cells": [
  {
   "cell_type": "code",
   "execution_count": 1,
   "metadata": {},
   "outputs": [],
   "source": [
    "import pandas as pd\n",
    "import numpy as np\n",
    "from math import sin, cos, sqrt, atan2"
   ]
  },
  {
   "cell_type": "code",
   "execution_count": 2,
   "metadata": {},
   "outputs": [],
   "source": [
    "laundry=pd.read_csv('laundry.csv')\n",
    "user=pd.read_csv('user.csv')"
   ]
  },
  {
   "cell_type": "code",
   "execution_count": 3,
   "metadata": {},
   "outputs": [
    {
     "name": "stdout",
     "output_type": "stream",
     "text": [
      "  userID   latitude   longitude           Service\n",
      "0  U1001  22.139997 -100.978803          American\n",
      "1  U1002  22.150087 -100.983325           Mexican\n",
      "2  U1003  22.119847 -100.946527           Mexican\n",
      "3  U1004  18.867000  -99.183000            Bakery\n",
      "4  U1004  18.867000  -99.183000  Breakfast-Brunch\n",
      "5  U1004  18.867000  -99.183000          Japanese\n",
      "6  U1004  18.867000  -99.183000      Contemporary\n",
      "7  U1004  18.867000  -99.183000           Mexican\n",
      "8  U1004  18.867000  -99.183000            Bagels\n",
      "9  U1004  18.867000  -99.183000  Cafe-Coffee_Shop\n",
      "   placeID   latitude   longitude    Service  Count  ave_rating\n",
      "0   132560  23.752304  -99.166913   Regional      4    0.175000\n",
      "1   132572  22.141647 -100.992712  Cafeteria     15    0.740000\n",
      "2   132583  18.922290  -99.234332   American      4    0.850000\n",
      "3   132584  23.752365  -99.165288    Mexican      6    1.133333\n",
      "4   132594  23.752168  -99.165709    Mexican      5    0.260000\n"
     ]
    }
   ],
   "source": [
    "laundry.drop('Unnamed: 0',axis=1,inplace=True)\n",
    "user.drop('Unnamed: 0',axis=1,inplace=True)\n",
    "laundry=laundry.groupby(['placeID','latitude','longitude','Service']).mean()\n",
    "laundry.reset_index( inplace=True)\n",
    "print(user.head(10))\n",
    "print(laundry.head())"
   ]
  },
  {
   "cell_type": "code",
   "execution_count": 4,
   "metadata": {},
   "outputs": [
    {
     "name": "stdout",
     "output_type": "stream",
     "text": [
      "    placeID   latitude   longitude          Service  Count  ave_rating\n",
      "59   134986  18.928798  -99.239513    International      8    2.700000\n",
      "91   135055  22.148854 -101.008472          Mexican      7    2.314286\n",
      "73   135034  22.140517 -101.021422         Japanese      5    2.140000\n",
      "52   132955  22.147622 -101.010275  Bar_Pub_Brewery      5    2.140000\n",
      "22   132755  22.153324 -101.019546          Mexican      5    2.020000\n"
     ]
    }
   ],
   "source": [
    "laundry=laundry.sort_values(by=['ave_rating','Count'], ascending=[False, False])\n",
    "print(laundry.head(5))"
   ]
  },
  {
   "cell_type": "code",
   "execution_count": 8,
   "metadata": {},
   "outputs": [
    {
     "name": "stdout",
     "output_type": "stream",
     "text": [
      "['U1001' 'U1002' 'U1003' 'U1004' 'U1005' 'U1006' 'U1007' 'U1008' 'U1009'\n",
      " 'U1010' 'U1011' 'U1012' 'U1013' 'U1014' 'U1015' 'U1016' 'U1017' 'U1018'\n",
      " 'U1019' 'U1020' 'U1021' 'U1022' 'U1023' 'U1024' 'U1025' 'U1026' 'U1027'\n",
      " 'U1028' 'U1029' 'U1030' 'U1031' 'U1032' 'U1033' 'U1034' 'U1035' 'U1036'\n",
      " 'U1037' 'U1038' 'U1039' 'U1040' 'U1041' 'U1042' 'U1043' 'U1044' 'U1045'\n",
      " 'U1046' 'U1047' 'U1048' 'U1049' 'U1050' 'U1051' 'U1052' 'U1053' 'U1054'\n",
      " 'U1055' 'U1056' 'U1057' 'U1058' 'U1059' 'U1060' 'U1061' 'U1062' 'U1063'\n",
      " 'U1064' 'U1065' 'U1066' 'U1067' 'U1068' 'U1069' 'U1070' 'U1071' 'U1072'\n",
      " 'U1073' 'U1074' 'U1075' 'U1076' 'U1077' 'U1078' 'U1079' 'U1080' 'U1081'\n",
      " 'U1082' 'U1083' 'U1084' 'U1085' 'U1086' 'U1087' 'U1088' 'U1089' 'U1090'\n",
      " 'U1091' 'U1092' 'U1093' 'U1094' 'U1095' 'U1096' 'U1097' 'U1098' 'U1099'\n",
      " 'U1100' 'U1101' 'U1102' 'U1103' 'U1104' 'U1105' 'U1106' 'U1107' 'U1108'\n",
      " 'U1109' 'U1110' 'U1111' 'U1112' 'U1113' 'U1114' 'U1115' 'U1116' 'U1117'\n",
      " 'U1118' 'U1119' 'U1120' 'U1121' 'U1122' 'U1123' 'U1124' 'U1125' 'U1126'\n",
      " 'U1127' 'U1128' 'U1129' 'U1130' 'U1131' 'U1132' 'U1133' 'U1134' 'U1135'\n",
      " 'U1136' 'U1137' 'U1138']\n"
     ]
    }
   ],
   "source": [
    "users = user['userID'].unique()\n",
    "print(users) #unique users"
   ]
  },
  {
   "cell_type": "code",
   "execution_count": 9,
   "metadata": {},
   "outputs": [],
   "source": [
    "class recomendation_py():\n",
    "    def __init__(self):\n",
    "        self.user_ID=None\n",
    "        \n",
    "    def recomendme(self,user_ID,user,laundry):\n",
    "        print(user_ID)\n",
    "        #print(user.head(15))\n",
    "        #print(laundry.head())\n",
    "        #print(user.loc[user['userID'] == 'user_ID'])\n",
    "        #select=user.userID == user_ID\n",
    "        lat=user.loc[user.userID == user_ID,'latitude'].item()\n",
    "        long=user.loc[user.userID == user_ID,'longitude'].item()\n",
    "        serv=user.loc[user.userID == user_ID,'Service'].item()\n",
    "        print(lat)\n",
    "        print(long)\n",
    "        print(serv)\n",
    "        laundry=pd.DataFrame(laundry[laundry['Service'] == serv])\n",
    "        #print(laundry)\n",
    "        laundry =laundry.reset_index(drop=True)\n",
    "        R = 6373.0\n",
    "        list=[]\n",
    "        for lat1,long1 in zip(laundry['latitude'],laundry['longitude']):\n",
    "            dlon = long1 - long\n",
    "            dlat = lat1 - lat\n",
    "            a = (sin(dlat/2))**2 + cos(lat) * cos(lat1) * (sin(dlon/2))**2\n",
    "            c = 2 * atan2(sqrt(a), sqrt(1-a))\n",
    "            distance = R * c\n",
    "            list.append(distance)\n",
    "        laundry['distance']=pd.Series(list)\n",
    "        laundry=laundry.sort_values(by=['distance'])\n",
    "        print(laundry)"
   ]
  },
  {
   "cell_type": "code",
   "execution_count": 10,
   "metadata": {},
   "outputs": [
    {
     "name": "stdout",
     "output_type": "stream",
     "text": [
      "U1002\n",
      "22.150087\n",
      "-100.983325\n",
      "Mexican\n",
      "    placeID   latitude   longitude  Service  Count  ave_rating     distance\n",
      "12   132825  22.147392 -100.983092  Mexican     32    1.009375    17.236460\n",
      "7    135028  22.146658 -100.987219  Mexican     15    1.293333    32.837660\n",
      "2    135025  22.149550 -100.977970  Mexican     15    1.706667    33.872047\n",
      "17   132834  22.156469 -100.985540  Mexican     25    0.724000    42.992153\n",
      "5    135106  22.149709 -100.976093  Mexican     10    1.410000    45.575030\n",
      "4    132754  22.147738 -100.990616  Mexican     13    1.423077    48.270601\n",
      "14   132925  22.153500 -100.976243  Mexican      5    0.880000    49.577662\n",
      "21   135027  22.147145 -100.974494  Mexican      8    0.425000    58.660697\n",
      "0    135055  22.148854 -101.008472  Mexican      7    2.314286   158.452324\n",
      "1    132755  22.153324 -101.019546  Mexican      5    2.020000   228.798366\n",
      "8    132723  22.148934 -101.019845  Mexican     12    1.225000   229.946815\n",
      "25   132845  22.126293 -100.900776  Mexican      5    0.320000   542.033100\n",
      "16   132665  23.736798  -99.134241  Mexican      5    0.740000  8707.626594\n",
      "15   132608  23.758805  -99.165130  Mexican      6    0.833333  8711.123654\n",
      "20   132706  23.729216  -99.132357  Mexican      4    0.500000  8717.546819\n",
      "19   132630  23.752931  -99.164473  Mexican      6    0.600000  8718.250560\n",
      "10   132613  23.752903  -99.165076  Mexican      6    1.066667  8719.000488\n",
      "9    132584  23.752365  -99.165288  Mexican      6    1.133333  8719.977427\n",
      "26   132594  23.752168  -99.165709  Mexican      5    0.260000  8720.739250\n",
      "27   132663  23.752511  -99.166954  Mexican      6    0.166667  8721.746188\n",
      "22   132740  23.752197  -99.166632  Mexican      8    0.412500  8721.787490\n",
      "18   135104  23.752982  -99.168434  Mexican      7    0.685714  8722.867315\n",
      "23   132732  23.754357  -99.171288  Mexican      8    0.400000  8724.444682\n",
      "13   132668  23.738212  -99.151955  Mexican      3    1.000000  8724.659241\n",
      "24   132715  23.732423  -99.158660  Mexican      4    0.400000  8740.130288\n",
      "11   132773  18.869993  -99.210319  Mexican      8    1.050000  8759.761524\n",
      "3    135018  18.859803  -99.222164  Mexican      4    1.600000  8823.548834\n",
      "6    134976  18.916654  -99.227110  Mexican     12    1.325000  8915.435082\n"
     ]
    }
   ],
   "source": [
    "pm=recomendation_py()\n",
    "user_ID = users[1]\n",
    "pm.recomendme(user_ID,user,laundry)"
   ]
  },
  {
   "cell_type": "markdown",
   "metadata": {},
   "source": []
  },
  {
   "cell_type": "code",
   "execution_count": null,
   "metadata": {},
   "outputs": [],
   "source": []
  }
 ],
 "metadata": {
  "kernelspec": {
   "display_name": "Python 3",
   "language": "python",
   "name": "python3"
  },
  "language_info": {
   "codemirror_mode": {
    "name": "ipython",
    "version": 3
   },
   "file_extension": ".py",
   "mimetype": "text/x-python",
   "name": "python",
   "nbconvert_exporter": "python",
   "pygments_lexer": "ipython3",
   "version": "3.7.2"
  }
 },
 "nbformat": 4,
 "nbformat_minor": 2
}
